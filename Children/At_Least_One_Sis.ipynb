{
 "cells": [
  {
   "cell_type": "markdown",
   "metadata": {},
   "source": [
    "# **Probability of having at least one Sister**"
   ]
  },
  {
   "cell_type": "markdown",
   "metadata": {},
   "source": [
    "Assume the following population of families: \n",
    "* 15% of families have 0 children \n",
    "* 20% of families have 1 child \n",
    "* 30% of families have 2 children \n",
    "* 20% of families have 3 children \n",
    "* 15% of families have 4 children  \n",
    "\n",
    "If we randomly select a child from our population of children,\n",
    "what is the probability that this child has at least one sister?"
   ]
  },
  {
   "cell_type": "markdown",
   "metadata": {},
   "source": [
    "We should use the families with children of 2, 3 or 4. Assume the child of interest is the first child in the family, and siblings are related to the first child.\n",
    "\n",
    "* 30% of the families have 2 children, combinations (2^2 = 4):\n",
    "    - B | B\n",
    "    - B | G\n",
    "    - G | B   \n",
    "    - G | G\n",
    "\n",
    "    Probability of having at least one sister = 1 - Probability of having only brothers = 1 - (2/4) = 2/4\n",
    "\n",
    "* 20% of the families have 3 children, combinations (2^3 = 8):\n",
    "    - B | B B\n",
    "    - B | B G\n",
    "    - B | G B\n",
    "    - B | G G\n",
    "    - G | B B\n",
    "    - G | B G\n",
    "    - G | G B\n",
    "    - G | G G\n",
    "\n",
    "    Probability of having at least one sister = 1 - Probability of having only brothers = 1 - (2/8) = 6/8\n",
    "\n",
    "* 15% of the families have 4 children, combinations (2^4 = 16):\n",
    "    - B | B B B\n",
    "    - B | B B G\n",
    "    - B | B G B\n",
    "    - B | B G G\n",
    "    - B | G B B\n",
    "    - B | G B G\n",
    "    - B | G G B\n",
    "    - B | G G G\n",
    "    - G | B B B\n",
    "    - G | B B G\n",
    "    - G | B G B\n",
    "    - G | B G G\n",
    "    - G | G B B\n",
    "    - G | G B G\n",
    "    - G | G G B\n",
    "    - G | G G G\n",
    "\n",
    "    Probability of having at least one sister = 1 - Probability of having only brothers = 1 - (2/16) = 14/16\n",
    "\n",
    "Then, the probability of having at least one sister is:\n",
    "$$ P = 0.3 \\times \\frac{2}{4} + 0.2 \\times \\frac{6}{8} + 0.15 \\times \\frac{14}{16} = 0.43125 $$"
   ]
  },
  {
   "cell_type": "markdown",
   "metadata": {},
   "source": [
    "We can also calculate this by simulating the children and families. "
   ]
  },
  {
   "cell_type": "code",
   "execution_count": 1,
   "metadata": {},
   "outputs": [
    {
     "data": {
      "text/plain": [
       "Counter({'GIRL': 5046, 'BOY': 4954})"
      ]
     },
     "execution_count": 1,
     "metadata": {},
     "output_type": "execute_result"
    }
   ],
   "source": [
    "import random\n",
    "from collections import Counter\n",
    "\n",
    "\n",
    "def generate_children():\n",
    "    return random.choice([\"BOY\", \"GIRL\"])\n",
    "\n",
    "\n",
    "random_children = [generate_children() for _ in range(10_000)]\n",
    "\n",
    "# Roughly 50% of the children are girls and 50% are boys.\n",
    "Counter(random_children)"
   ]
  },
  {
   "cell_type": "code",
   "execution_count": 2,
   "metadata": {},
   "outputs": [
    {
     "data": {
      "text/plain": [
       "Counter({'C': 2976, 'D': 2059, 'B': 1985, 'A': 1513, 'E': 1467})"
      ]
     },
     "execution_count": 2,
     "metadata": {},
     "output_type": "execute_result"
    }
   ],
   "source": [
    "families_to_children = {\n",
    "    \"A\": 0,\n",
    "    \"B\": 1,\n",
    "    \"C\": 2,\n",
    "    \"D\": 3,\n",
    "    \"E\": 4,\n",
    "}\n",
    "\n",
    "families_probs = {\n",
    "    \"A\": 0.15,\n",
    "    \"B\": 0.20,\n",
    "    \"C\": 0.30,\n",
    "    \"D\": 0.20,\n",
    "    \"E\": 0.15,\n",
    "}\n",
    "\n",
    "\n",
    "def select_family():\n",
    "    families, weights = zip(*families_probs.items())\n",
    "    return random.choices(families, weights=weights, k=1)[0]\n",
    "\n",
    "\n",
    "random_children = [select_family() for _ in range(10_000)]\n",
    "Counter(random_children)"
   ]
  },
  {
   "cell_type": "code",
   "execution_count": 3,
   "metadata": {},
   "outputs": [],
   "source": [
    "def get_children_from_family(family):\n",
    "    num_children = families_to_children[family]\n",
    "    return [generate_children() for _ in range(num_children)]\n",
    "\n",
    "\n",
    "assert len(get_children_from_family(\"A\")) == 0\n",
    "assert len(get_children_from_family(\"B\")) == 1\n",
    "assert len(get_children_from_family(\"C\")) == 2\n",
    "assert len(get_children_from_family(\"D\")) == 3\n",
    "assert len(get_children_from_family(\"E\")) == 4"
   ]
  },
  {
   "cell_type": "code",
   "execution_count": 4,
   "metadata": {},
   "outputs": [],
   "source": [
    "from typing import List\n",
    "\n",
    "\n",
    "def has_sister(children: List[str]) -> bool:\n",
    "    # If there are no children or only one child, there can't be a sister.\n",
    "    if len(children) in [0, 1]:\n",
    "        return False\n",
    "\n",
    "    self, siblings = children[0], children[1:]\n",
    "    return siblings.count(\"GIRL\") >= 1\n",
    "\n",
    "\n",
    "assert has_sister([]) == False\n",
    "assert has_sister([\"GIRL\"]) == False\n",
    "assert has_sister([\"GIRL\", \"GIRL\"]) == True\n",
    "assert has_sister([\"BOY\", \"GIRL\"]) == True\n",
    "assert has_sister([\"BOY\", \"BOY\"]) == False"
   ]
  },
  {
   "cell_type": "code",
   "execution_count": 5,
   "metadata": {},
   "outputs": [
    {
     "name": "stdout",
     "output_type": "stream",
     "text": [
      "Family A has [] and has sister: False\n",
      "Family D has ['BOY', 'GIRL', 'GIRL'] and has sister: True\n",
      "Family D has ['GIRL', 'GIRL', 'BOY'] and has sister: True\n",
      "Family E has ['GIRL', 'GIRL', 'BOY', 'BOY'] and has sister: True\n",
      "Family E has ['BOY', 'GIRL', 'GIRL', 'BOY'] and has sister: True\n",
      "Family D has ['GIRL', 'BOY', 'GIRL'] and has sister: True\n",
      "Family C has ['BOY', 'BOY'] and has sister: False\n",
      "Family E has ['GIRL', 'GIRL', 'BOY', 'GIRL'] and has sister: True\n",
      "Family E has ['GIRL', 'GIRL', 'BOY', 'BOY'] and has sister: True\n",
      "Family C has ['BOY', 'BOY'] and has sister: False\n"
     ]
    }
   ],
   "source": [
    "for _ in range(10):\n",
    "    family = select_family()\n",
    "    children = get_children_from_family(family)\n",
    "    sister = has_sister(children)\n",
    "\n",
    "    print(f\"Family {family} has {children} and has sister: {sister}\")"
   ]
  },
  {
   "cell_type": "code",
   "execution_count": 6,
   "metadata": {},
   "outputs": [
    {
     "name": "stdout",
     "output_type": "stream",
     "text": [
      "Counter({False: 56483, True: 43517})\n",
      "0.43517\n"
     ]
    }
   ],
   "source": [
    "NUM_TRIALS = 100_000\n",
    "sister_counts = Counter()\n",
    "\n",
    "for _ in range(NUM_TRIALS):\n",
    "    family = select_family()\n",
    "    children = get_children_from_family(family)\n",
    "    sister = has_sister(children)\n",
    "    sister_counts[sister] += 1\n",
    "\n",
    "print(sister_counts)\n",
    "print(sister_counts[True] / NUM_TRIALS)"
   ]
  },
  {
   "cell_type": "markdown",
   "metadata": {},
   "source": [
    "Which is almost $0.43125$, which is the expected value."
   ]
  },
  {
   "cell_type": "code",
   "execution_count": null,
   "metadata": {},
   "outputs": [],
   "source": []
  }
 ],
 "metadata": {
  "kernelspec": {
   "display_name": "AISkills",
   "language": "python",
   "name": "python3"
  },
  "language_info": {
   "codemirror_mode": {
    "name": "ipython",
    "version": 3
   },
   "file_extension": ".py",
   "mimetype": "text/x-python",
   "name": "python",
   "nbconvert_exporter": "python",
   "pygments_lexer": "ipython3",
   "version": "3.10.12"
  },
  "orig_nbformat": 4
 },
 "nbformat": 4,
 "nbformat_minor": 2
}
