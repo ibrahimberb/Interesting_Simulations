{
 "cells": [
  {
   "cell_type": "markdown",
   "metadata": {},
   "source": [
    "# Monty Hall "
   ]
  },
  {
   "cell_type": "markdown",
   "metadata": {},
   "source": [
    "<img src=\"image.png\" alt=\"Image\" style=\"width:35%\">\n"
   ]
  },
  {
   "cell_type": "markdown",
   "metadata": {},
   "source": [
    "The Monty Hall show refers to a famous probability puzzle based on a game show format. The scenario is named after the host of the television game show \"Let's Make a Deal,\" Monty Hall. The classic problem goes like this:\n",
    "\n",
    "1. The contestant is presented with three doors. Behind one of the doors is a valuable prize, such as a car, while behind the other two doors are less desirable prizes, like goats.\n",
    "2. The contestant selects one of the three doors, but the door is not opened immediately.\n",
    "3. Monty Hall, who knows what is behind each door, opens one of the other two doors to reveal a goat.\n",
    "4. The contestant is then given the opportunity to stick with their original choice or switch to the remaining unopened door.\n",
    "\n",
    "The surprising element of the Monty Hall problem lies in the optimal strategy. Counterintuitively, it is statistically advantageous for the contestant to switch doors after one is revealed, as it doubles their chances of winning the car. This paradoxical result often serves as a fascinating introduction to probability and decision-making, challenging common intuition and leading to interesting discussions in the field of mathematics and game theory."
   ]
  },
  {
   "cell_type": "code",
   "execution_count": 1,
   "metadata": {},
   "outputs": [],
   "source": [
    "import random\n",
    "import pandas as pd\n",
    "\n",
    "from dataclasses import dataclass\n",
    "from typing import List\n",
    "\n",
    "from IPython.display import display\n",
    "\n",
    "\n",
    "NUM_DOORS = 3\n",
    "NUM_GAMES = 1000\n",
    "\n",
    "@dataclass\n",
    "class Strategy:\n",
    "    SWITCH = \"switch\"\n",
    "    STAY = \"stay\"\n",
    "\n",
    "\n",
    "@dataclass\n",
    "class UserMode:\n",
    "    USER = True\n",
    "    BEHIND = False\n",
    "\n",
    "\n",
    "def prepare_doors():\n",
    "    doors = [\"🐐\"] * NUM_DOORS\n",
    "    doors[random.randint(0, NUM_DOORS - 1)] = \"🚗\"\n",
    "    random.shuffle(doors)\n",
    "    return doors\n",
    "\n",
    "\n",
    "def show_doors_behind(doors):\n",
    "    df = pd.DataFrame(doors, columns=[\"Prize\"])\n",
    "    df.index += 1\n",
    "    df.index.name = \"Door\"\n",
    "    return df.T\n",
    "\n",
    "\n",
    "def show_doors_user(doors, opened_doors=None):\n",
    "    closed_doors = [\"🚪\"] * NUM_DOORS\n",
    "    if opened_doors is not None:\n",
    "        for opened_door in opened_doors:\n",
    "            closed_doors[opened_door] = doors[opened_door]\n",
    "\n",
    "    df = pd.DataFrame(closed_doors, columns=[\"Prize\"])\n",
    "    df.index += 1\n",
    "    df.index.name = \"Door\"\n",
    "    return df.T\n",
    "\n",
    "\n",
    "def choose_initial_door():\n",
    "    return random.randint(0, NUM_DOORS - 1)\n",
    "\n",
    "\n",
    "def monty_opens(doors, chosen_initial_door):\n",
    "    # Monty opens NUM_DOORS - 2 doors.\n",
    "    possible_doors = [i for i in range(NUM_DOORS) if i != chosen_initial_door and doors[i] != \"🚗\"]\n",
    "    opened_doors = random.sample(possible_doors, NUM_DOORS - 2)\n",
    "    return opened_doors\n",
    "\n",
    "\n",
    "def switch_door(chosen_initial_door: int, opened_doors: List[int]):\n",
    "    # print(f\"[DEBUG] chosen_initial_door: {chosen_initial_door}\")\n",
    "    # print(f\"[DEBUG] opened_doors: {opened_doors}\")\n",
    "    [switched_door] = [i for i in range(NUM_DOORS) if i != chosen_initial_door and i not in opened_doors]\n",
    "    # print(f\"[DEBUG] switched_door: {switched_door}\")\n",
    "    return switched_door\n",
    "\n",
    "\n",
    "\n",
    "def play(strategy, user_mode, verbose=True):\n",
    "    if verbose:\n",
    "        print(\"Let's play a game!\")\n",
    "\n",
    "    doors = prepare_doors()\n",
    "    if verbose:\n",
    "        print(\"Here are the doors:\")\n",
    "        if user_mode:\n",
    "            display(show_doors_user(doors))\n",
    "        else:\n",
    "            display(show_doors_behind(doors))\n",
    "\n",
    "    chosen_initial_door = choose_initial_door()\n",
    "\n",
    "    if verbose:\n",
    "        if user_mode:\n",
    "            print(f\"You initially chose door number {chosen_initial_door + 1} (I wonder what's behind it...)\")\n",
    "        else:\n",
    "            print(f\"You initially chose door number {chosen_initial_door + 1}: {doors[chosen_initial_door]}\")\n",
    "\n",
    "    # It would be multiple if we have more than 3 doors\n",
    "    opened_doors = monty_opens(doors, chosen_initial_door)\n",
    "    if verbose:\n",
    "        print(f\"Monty opened door(s) number {[door+1 for door in opened_doors]}\\n\")\n",
    "        print(\"Here are the doors:\")\n",
    "        display(show_doors_user(doors, opened_doors))\n",
    "\n",
    "    if strategy == Strategy.SWITCH:\n",
    "        final_door = switch_door(chosen_initial_door, opened_doors)\n",
    "        if verbose:\n",
    "            if user_mode:\n",
    "                print(f\"You switched to door number {final_door + 1} (I wonder what's behind it...)\")\n",
    "            else:\n",
    "                print(f\"You switched to door number {final_door + 1}: {doors[final_door]}\")\n",
    "\n",
    "    else:\n",
    "        final_door = chosen_initial_door\n",
    "        if verbose:\n",
    "            if user_mode:\n",
    "                print(f\"You stayed with door number {final_door + 1} (I wonder what's behind it...)\")\n",
    "            else:\n",
    "                print(f\"You stayed with door number {final_door + 1}: {doors[final_door]}\")\n",
    "\n",
    "    if doors[final_door] == \"🚗\":\n",
    "        game_result = \"WIN\"\n",
    "        if verbose:\n",
    "            print(\"*** You won! ***\")\n",
    "    else:\n",
    "        game_result = \"LOSE\"\n",
    "        if verbose:\n",
    "            print(\"*** You lost! ***\")\n",
    "\n",
    "    if verbose:\n",
    "        print(\"\\nHere are the doors:\")\n",
    "        display(show_doors_behind(doors))\n",
    "\n",
    "    return game_result\n"
   ]
  },
  {
   "cell_type": "code",
   "execution_count": 2,
   "metadata": {},
   "outputs": [
    {
     "name": "stdout",
     "output_type": "stream",
     "text": [
      "Let's play a game!\n",
      "Here are the doors:\n"
     ]
    },
    {
     "data": {
      "text/html": [
       "<div>\n",
       "<style scoped>\n",
       "    .dataframe tbody tr th:only-of-type {\n",
       "        vertical-align: middle;\n",
       "    }\n",
       "\n",
       "    .dataframe tbody tr th {\n",
       "        vertical-align: top;\n",
       "    }\n",
       "\n",
       "    .dataframe thead th {\n",
       "        text-align: right;\n",
       "    }\n",
       "</style>\n",
       "<table border=\"1\" class=\"dataframe\">\n",
       "  <thead>\n",
       "    <tr style=\"text-align: right;\">\n",
       "      <th>Door</th>\n",
       "      <th>1</th>\n",
       "      <th>2</th>\n",
       "      <th>3</th>\n",
       "    </tr>\n",
       "  </thead>\n",
       "  <tbody>\n",
       "    <tr>\n",
       "      <th>Prize</th>\n",
       "      <td>🚪</td>\n",
       "      <td>🚪</td>\n",
       "      <td>🚪</td>\n",
       "    </tr>\n",
       "  </tbody>\n",
       "</table>\n",
       "</div>"
      ],
      "text/plain": [
       "Door   1  2  3\n",
       "Prize  🚪  🚪  🚪"
      ]
     },
     "metadata": {},
     "output_type": "display_data"
    },
    {
     "name": "stdout",
     "output_type": "stream",
     "text": [
      "You initially chose door number 2 (I wonder what's behind it...)\n",
      "Monty opened door(s) number [1]\n",
      "\n",
      "Here are the doors:\n"
     ]
    },
    {
     "data": {
      "text/html": [
       "<div>\n",
       "<style scoped>\n",
       "    .dataframe tbody tr th:only-of-type {\n",
       "        vertical-align: middle;\n",
       "    }\n",
       "\n",
       "    .dataframe tbody tr th {\n",
       "        vertical-align: top;\n",
       "    }\n",
       "\n",
       "    .dataframe thead th {\n",
       "        text-align: right;\n",
       "    }\n",
       "</style>\n",
       "<table border=\"1\" class=\"dataframe\">\n",
       "  <thead>\n",
       "    <tr style=\"text-align: right;\">\n",
       "      <th>Door</th>\n",
       "      <th>1</th>\n",
       "      <th>2</th>\n",
       "      <th>3</th>\n",
       "    </tr>\n",
       "  </thead>\n",
       "  <tbody>\n",
       "    <tr>\n",
       "      <th>Prize</th>\n",
       "      <td>🐐</td>\n",
       "      <td>🚪</td>\n",
       "      <td>🚪</td>\n",
       "    </tr>\n",
       "  </tbody>\n",
       "</table>\n",
       "</div>"
      ],
      "text/plain": [
       "Door   1  2  3\n",
       "Prize  🐐  🚪  🚪"
      ]
     },
     "metadata": {},
     "output_type": "display_data"
    },
    {
     "name": "stdout",
     "output_type": "stream",
     "text": [
      "You switched to door number 3 (I wonder what's behind it...)\n",
      "*** You won! ***\n",
      "\n",
      "Here are the doors:\n"
     ]
    },
    {
     "data": {
      "text/html": [
       "<div>\n",
       "<style scoped>\n",
       "    .dataframe tbody tr th:only-of-type {\n",
       "        vertical-align: middle;\n",
       "    }\n",
       "\n",
       "    .dataframe tbody tr th {\n",
       "        vertical-align: top;\n",
       "    }\n",
       "\n",
       "    .dataframe thead th {\n",
       "        text-align: right;\n",
       "    }\n",
       "</style>\n",
       "<table border=\"1\" class=\"dataframe\">\n",
       "  <thead>\n",
       "    <tr style=\"text-align: right;\">\n",
       "      <th>Door</th>\n",
       "      <th>1</th>\n",
       "      <th>2</th>\n",
       "      <th>3</th>\n",
       "    </tr>\n",
       "  </thead>\n",
       "  <tbody>\n",
       "    <tr>\n",
       "      <th>Prize</th>\n",
       "      <td>🐐</td>\n",
       "      <td>🐐</td>\n",
       "      <td>🚗</td>\n",
       "    </tr>\n",
       "  </tbody>\n",
       "</table>\n",
       "</div>"
      ],
      "text/plain": [
       "Door   1  2  3\n",
       "Prize  🐐  🐐  🚗"
      ]
     },
     "metadata": {},
     "output_type": "display_data"
    },
    {
     "name": "stdout",
     "output_type": "stream",
     "text": [
      "WIN\n"
     ]
    }
   ],
   "source": [
    "result = play(Strategy.SWITCH, UserMode.USER, verbose=True)\n",
    "print(result)"
   ]
  },
  {
   "cell_type": "code",
   "execution_count": 3,
   "metadata": {},
   "outputs": [],
   "source": [
    "from matplotlib import pyplot as plt\n",
    "import seaborn as sns\n",
    "from collections import Counter\n",
    "\n",
    "\n",
    "def simulate(strategy, user_mode, num_games=NUM_GAMES, verbose=False):\n",
    "    results = []\n",
    "    for i in range(num_games):\n",
    "        if verbose:\n",
    "            print(f\"Game {i+1}:\")\n",
    "        results.append(play(strategy, user_mode, verbose=verbose))\n",
    "        if verbose:\n",
    "            print(\"\\n\\n\")\n",
    "\n",
    "    results_counter = Counter(results)\n",
    "    results_data = pd.DataFrame(\n",
    "        list(results_counter.items()), columns=[\"Result\", \"Count\"]\n",
    "    )\n",
    "\n",
    "    # Specify the order of the x-axis categories\n",
    "    order = [\"WIN\", \"LOSE\"]\n",
    "\n",
    "    display(results_data)\n",
    "\n",
    "    win_rate = results_counter[\"WIN\"] / num_games\n",
    "    print(f\"Win rate: {win_rate:.2f}\")\n",
    "\n",
    "    # Plot results with specified order\n",
    "    sns.barplot(data=results_data, x=\"Result\", y=\"Count\", order=order)\n",
    "    plt.title(f\"strategy={strategy}\")\n",
    "    return plt"
   ]
  },
  {
   "cell_type": "code",
   "execution_count": 4,
   "metadata": {},
   "outputs": [
    {
     "data": {
      "text/html": [
       "<div>\n",
       "<style scoped>\n",
       "    .dataframe tbody tr th:only-of-type {\n",
       "        vertical-align: middle;\n",
       "    }\n",
       "\n",
       "    .dataframe tbody tr th {\n",
       "        vertical-align: top;\n",
       "    }\n",
       "\n",
       "    .dataframe thead th {\n",
       "        text-align: right;\n",
       "    }\n",
       "</style>\n",
       "<table border=\"1\" class=\"dataframe\">\n",
       "  <thead>\n",
       "    <tr style=\"text-align: right;\">\n",
       "      <th></th>\n",
       "      <th>Result</th>\n",
       "      <th>Count</th>\n",
       "    </tr>\n",
       "  </thead>\n",
       "  <tbody>\n",
       "    <tr>\n",
       "      <th>0</th>\n",
       "      <td>LOSE</td>\n",
       "      <td>339</td>\n",
       "    </tr>\n",
       "    <tr>\n",
       "      <th>1</th>\n",
       "      <td>WIN</td>\n",
       "      <td>661</td>\n",
       "    </tr>\n",
       "  </tbody>\n",
       "</table>\n",
       "</div>"
      ],
      "text/plain": [
       "  Result  Count\n",
       "0   LOSE    339\n",
       "1    WIN    661"
      ]
     },
     "metadata": {},
     "output_type": "display_data"
    },
    {
     "name": "stdout",
     "output_type": "stream",
     "text": [
      "Win rate: 0.66\n"
     ]
    },
    {
     "data": {
      "text/html": [
       "<div>\n",
       "<style scoped>\n",
       "    .dataframe tbody tr th:only-of-type {\n",
       "        vertical-align: middle;\n",
       "    }\n",
       "\n",
       "    .dataframe tbody tr th {\n",
       "        vertical-align: top;\n",
       "    }\n",
       "\n",
       "    .dataframe thead th {\n",
       "        text-align: right;\n",
       "    }\n",
       "</style>\n",
       "<table border=\"1\" class=\"dataframe\">\n",
       "  <thead>\n",
       "    <tr style=\"text-align: right;\">\n",
       "      <th></th>\n",
       "      <th>Result</th>\n",
       "      <th>Count</th>\n",
       "    </tr>\n",
       "  </thead>\n",
       "  <tbody>\n",
       "    <tr>\n",
       "      <th>0</th>\n",
       "      <td>LOSE</td>\n",
       "      <td>663</td>\n",
       "    </tr>\n",
       "    <tr>\n",
       "      <th>1</th>\n",
       "      <td>WIN</td>\n",
       "      <td>337</td>\n",
       "    </tr>\n",
       "  </tbody>\n",
       "</table>\n",
       "</div>"
      ],
      "text/plain": [
       "  Result  Count\n",
       "0   LOSE    663\n",
       "1    WIN    337"
      ]
     },
     "metadata": {},
     "output_type": "display_data"
    },
    {
     "name": "stdout",
     "output_type": "stream",
     "text": [
      "Win rate: 0.34\n"
     ]
    },
    {
     "data": {
      "image/png": "[encoded data removed]",
      "text/plain": [
       "<Figure size 1000x500 with 2 Axes>"
      ]
     },
     "metadata": {},
     "output_type": "display_data"
    }
   ],
   "source": [
    "plt.figure(figsize=(10, 5))\n",
    "plt.subplot(1, 2, 1)\n",
    "simulate(Strategy.SWITCH, UserMode.BEHIND, verbose=False)\n",
    "plt.subplot(1, 2, 2)\n",
    "simulate(Strategy.STAY, UserMode.BEHIND, verbose=False)\n",
    "plt.suptitle(f\"Results of {NUM_GAMES} games (num_doors={NUM_DOORS})\")\n",
    "plt.tight_layout()"
   ]
  },
  {
   "cell_type": "markdown",
   "metadata": {},
   "source": [
    "The explanation is that, the probabilities, which was 1/3 for each door, will now be concentrated on the remaining door. Think about it, you had 2/3 chance of *missing* the car, it's _probably_ not the one you choose, and therefore it was more probable that the car was behind the remaining two doors after you've picked one. Now that Monty showed one of the hidden doors, that 2/3 chance of winning the car is now only attached to the remaining closed door. So, you should switch."
   ]
  },
  {
   "cell_type": "markdown",
   "metadata": {},
   "source": [
    "As seen by the simulation, the win rate is 2/3 when switching and 1/3 when staying. It is always better to switch. This would become more obvious if when we have more doors. Instead of having 3 doors, let's have 10 doors, and Monty opens 8 doors (not the one you chose and not the one with the car). Then, it is more obvious that the probability of the car being behind the door you chose is 1/10, while the probability of the car being behind the other door is 9/10."
   ]
  },
  {
   "cell_type": "code",
   "execution_count": 5,
   "metadata": {},
   "outputs": [
    {
     "name": "stdout",
     "output_type": "stream",
     "text": [
      "Let's play a game!\n",
      "Here are the doors:\n"
     ]
    },
    {
     "data": {
      "text/html": [
       "<div>\n",
       "<style scoped>\n",
       "    .dataframe tbody tr th:only-of-type {\n",
       "        vertical-align: middle;\n",
       "    }\n",
       "\n",
       "    .dataframe tbody tr th {\n",
       "        vertical-align: top;\n",
       "    }\n",
       "\n",
       "    .dataframe thead th {\n",
       "        text-align: right;\n",
       "    }\n",
       "</style>\n",
       "<table border=\"1\" class=\"dataframe\">\n",
       "  <thead>\n",
       "    <tr style=\"text-align: right;\">\n",
       "      <th>Door</th>\n",
       "      <th>1</th>\n",
       "      <th>2</th>\n",
       "      <th>3</th>\n",
       "      <th>4</th>\n",
       "      <th>5</th>\n",
       "      <th>6</th>\n",
       "      <th>7</th>\n",
       "      <th>8</th>\n",
       "      <th>9</th>\n",
       "      <th>10</th>\n",
       "    </tr>\n",
       "  </thead>\n",
       "  <tbody>\n",
       "    <tr>\n",
       "      <th>Prize</th>\n",
       "      <td>🚪</td>\n",
       "      <td>🚪</td>\n",
       "      <td>🚪</td>\n",
       "      <td>🚪</td>\n",
       "      <td>🚪</td>\n",
       "      <td>🚪</td>\n",
       "      <td>🚪</td>\n",
       "      <td>🚪</td>\n",
       "      <td>🚪</td>\n",
       "      <td>🚪</td>\n",
       "    </tr>\n",
       "  </tbody>\n",
       "</table>\n",
       "</div>"
      ],
      "text/plain": [
       "Door  1  2  3  4  5  6  7  8  9  10\n",
       "Prize  🚪  🚪  🚪  🚪  🚪  🚪  🚪  🚪  🚪  🚪"
      ]
     },
     "metadata": {},
     "output_type": "display_data"
    },
    {
     "name": "stdout",
     "output_type": "stream",
     "text": [
      "You initially chose door number 6 (I wonder what's behind it...)\n",
      "Monty opened door(s) number [7, 1, 4, 10, 2, 3, 9, 8]\n",
      "\n",
      "Here are the doors:\n"
     ]
    },
    {
     "data": {
      "text/html": [
       "<div>\n",
       "<style scoped>\n",
       "    .dataframe tbody tr th:only-of-type {\n",
       "        vertical-align: middle;\n",
       "    }\n",
       "\n",
       "    .dataframe tbody tr th {\n",
       "        vertical-align: top;\n",
       "    }\n",
       "\n",
       "    .dataframe thead th {\n",
       "        text-align: right;\n",
       "    }\n",
       "</style>\n",
       "<table border=\"1\" class=\"dataframe\">\n",
       "  <thead>\n",
       "    <tr style=\"text-align: right;\">\n",
       "      <th>Door</th>\n",
       "      <th>1</th>\n",
       "      <th>2</th>\n",
       "      <th>3</th>\n",
       "      <th>4</th>\n",
       "      <th>5</th>\n",
       "      <th>6</th>\n",
       "      <th>7</th>\n",
       "      <th>8</th>\n",
       "      <th>9</th>\n",
       "      <th>10</th>\n",
       "    </tr>\n",
       "  </thead>\n",
       "  <tbody>\n",
       "    <tr>\n",
       "      <th>Prize</th>\n",
       "      <td>🐐</td>\n",
       "      <td>🐐</td>\n",
       "      <td>🐐</td>\n",
       "      <td>🐐</td>\n",
       "      <td>🚪</td>\n",
       "      <td>🚪</td>\n",
       "      <td>🐐</td>\n",
       "      <td>🐐</td>\n",
       "      <td>🐐</td>\n",
       "      <td>🐐</td>\n",
       "    </tr>\n",
       "  </tbody>\n",
       "</table>\n",
       "</div>"
      ],
      "text/plain": [
       "Door  1  2  3  4  5  6  7  8  9  10\n",
       "Prize  🐐  🐐  🐐  🐐  🚪  🚪  🐐  🐐  🐐  🐐"
      ]
     },
     "metadata": {},
     "output_type": "display_data"
    },
    {
     "name": "stdout",
     "output_type": "stream",
     "text": [
      "You switched to door number 5 (I wonder what's behind it...)\n",
      "*** You won! ***\n",
      "\n",
      "Here are the doors:\n"
     ]
    },
    {
     "data": {
      "text/html": [
       "<div>\n",
       "<style scoped>\n",
       "    .dataframe tbody tr th:only-of-type {\n",
       "        vertical-align: middle;\n",
       "    }\n",
       "\n",
       "    .dataframe tbody tr th {\n",
       "        vertical-align: top;\n",
       "    }\n",
       "\n",
       "    .dataframe thead th {\n",
       "        text-align: right;\n",
       "    }\n",
       "</style>\n",
       "<table border=\"1\" class=\"dataframe\">\n",
       "  <thead>\n",
       "    <tr style=\"text-align: right;\">\n",
       "      <th>Door</th>\n",
       "      <th>1</th>\n",
       "      <th>2</th>\n",
       "      <th>3</th>\n",
       "      <th>4</th>\n",
       "      <th>5</th>\n",
       "      <th>6</th>\n",
       "      <th>7</th>\n",
       "      <th>8</th>\n",
       "      <th>9</th>\n",
       "      <th>10</th>\n",
       "    </tr>\n",
       "  </thead>\n",
       "  <tbody>\n",
       "    <tr>\n",
       "      <th>Prize</th>\n",
       "      <td>🐐</td>\n",
       "      <td>🐐</td>\n",
       "      <td>🐐</td>\n",
       "      <td>🐐</td>\n",
       "      <td>🚗</td>\n",
       "      <td>🐐</td>\n",
       "      <td>🐐</td>\n",
       "      <td>🐐</td>\n",
       "      <td>🐐</td>\n",
       "      <td>🐐</td>\n",
       "    </tr>\n",
       "  </tbody>\n",
       "</table>\n",
       "</div>"
      ],
      "text/plain": [
       "Door  1  2  3  4  5  6  7  8  9  10\n",
       "Prize  🐐  🐐  🐐  🐐  🚗  🐐  🐐  🐐  🐐  🐐"
      ]
     },
     "metadata": {},
     "output_type": "display_data"
    },
    {
     "name": "stdout",
     "output_type": "stream",
     "text": [
      "WIN\n"
     ]
    }
   ],
   "source": [
    "NUM_DOORS = 10\n",
    "\n",
    "result = play(Strategy.SWITCH, UserMode.USER, verbose=True)\n",
    "print(result)"
   ]
  },
  {
   "cell_type": "code",
   "execution_count": 6,
   "metadata": {},
   "outputs": [
    {
     "data": {
      "text/html": [
       "<div>\n",
       "<style scoped>\n",
       "    .dataframe tbody tr th:only-of-type {\n",
       "        vertical-align: middle;\n",
       "    }\n",
       "\n",
       "    .dataframe tbody tr th {\n",
       "        vertical-align: top;\n",
       "    }\n",
       "\n",
       "    .dataframe thead th {\n",
       "        text-align: right;\n",
       "    }\n",
       "</style>\n",
       "<table border=\"1\" class=\"dataframe\">\n",
       "  <thead>\n",
       "    <tr style=\"text-align: right;\">\n",
       "      <th></th>\n",
       "      <th>Result</th>\n",
       "      <th>Count</th>\n",
       "    </tr>\n",
       "  </thead>\n",
       "  <tbody>\n",
       "    <tr>\n",
       "      <th>0</th>\n",
       "      <td>WIN</td>\n",
       "      <td>898</td>\n",
       "    </tr>\n",
       "    <tr>\n",
       "      <th>1</th>\n",
       "      <td>LOSE</td>\n",
       "      <td>102</td>\n",
       "    </tr>\n",
       "  </tbody>\n",
       "</table>\n",
       "</div>"
      ],
      "text/plain": [
       "  Result  Count\n",
       "0    WIN    898\n",
       "1   LOSE    102"
      ]
     },
     "metadata": {},
     "output_type": "display_data"
    },
    {
     "name": "stdout",
     "output_type": "stream",
     "text": [
      "Win rate: 0.90\n"
     ]
    },
    {
     "data": {
      "text/html": [
       "<div>\n",
       "<style scoped>\n",
       "    .dataframe tbody tr th:only-of-type {\n",
       "        vertical-align: middle;\n",
       "    }\n",
       "\n",
       "    .dataframe tbody tr th {\n",
       "        vertical-align: top;\n",
       "    }\n",
       "\n",
       "    .dataframe thead th {\n",
       "        text-align: right;\n",
       "    }\n",
       "</style>\n",
       "<table border=\"1\" class=\"dataframe\">\n",
       "  <thead>\n",
       "    <tr style=\"text-align: right;\">\n",
       "      <th></th>\n",
       "      <th>Result</th>\n",
       "      <th>Count</th>\n",
       "    </tr>\n",
       "  </thead>\n",
       "  <tbody>\n",
       "    <tr>\n",
       "      <th>0</th>\n",
       "      <td>LOSE</td>\n",
       "      <td>896</td>\n",
       "    </tr>\n",
       "    <tr>\n",
       "      <th>1</th>\n",
       "      <td>WIN</td>\n",
       "      <td>104</td>\n",
       "    </tr>\n",
       "  </tbody>\n",
       "</table>\n",
       "</div>"
      ],
      "text/plain": [
       "  Result  Count\n",
       "0   LOSE    896\n",
       "1    WIN    104"
      ]
     },
     "metadata": {},
     "output_type": "display_data"
    },
    {
     "name": "stdout",
     "output_type": "stream",
     "text": [
      "Win rate: 0.10\n"
     ]
    },
    {
     "data": {
      "image/png": "[encoded data removed]",
      "text/plain": [
       "<Figure size 1000x500 with 2 Axes>"
      ]
     },
     "metadata": {},
     "output_type": "display_data"
    }
   ],
   "source": [
    "plt.figure(figsize=(10, 5))\n",
    "plt.subplot(1, 2, 1)\n",
    "simulate(Strategy.SWITCH, UserMode.BEHIND, verbose=False)\n",
    "plt.subplot(1, 2, 2)\n",
    "simulate(Strategy.STAY, UserMode.BEHIND, verbose=False)\n",
    "plt.suptitle(f\"Results of {NUM_GAMES} games (num_doors={NUM_DOORS})\")\n",
    "plt.tight_layout()"
   ]
  },
  {
   "cell_type": "markdown",
   "metadata": {},
   "source": [
    "How about we have 100 doors?"
   ]
  },
  {
   "cell_type": "code",
   "execution_count": 7,
   "metadata": {},
   "outputs": [
    {
     "data": {
      "text/html": [
       "<div>\n",
       "<style scoped>\n",
       "    .dataframe tbody tr th:only-of-type {\n",
       "        vertical-align: middle;\n",
       "    }\n",
       "\n",
       "    .dataframe tbody tr th {\n",
       "        vertical-align: top;\n",
       "    }\n",
       "\n",
       "    .dataframe thead th {\n",
       "        text-align: right;\n",
       "    }\n",
       "</style>\n",
       "<table border=\"1\" class=\"dataframe\">\n",
       "  <thead>\n",
       "    <tr style=\"text-align: right;\">\n",
       "      <th></th>\n",
       "      <th>Result</th>\n",
       "      <th>Count</th>\n",
       "    </tr>\n",
       "  </thead>\n",
       "  <tbody>\n",
       "    <tr>\n",
       "      <th>0</th>\n",
       "      <td>WIN</td>\n",
       "      <td>992</td>\n",
       "    </tr>\n",
       "    <tr>\n",
       "      <th>1</th>\n",
       "      <td>LOSE</td>\n",
       "      <td>8</td>\n",
       "    </tr>\n",
       "  </tbody>\n",
       "</table>\n",
       "</div>"
      ],
      "text/plain": [
       "  Result  Count\n",
       "0    WIN    992\n",
       "1   LOSE      8"
      ]
     },
     "metadata": {},
     "output_type": "display_data"
    },
    {
     "name": "stdout",
     "output_type": "stream",
     "text": [
      "Win rate: 0.99\n"
     ]
    },
    {
     "data": {
      "text/html": [
       "<div>\n",
       "<style scoped>\n",
       "    .dataframe tbody tr th:only-of-type {\n",
       "        vertical-align: middle;\n",
       "    }\n",
       "\n",
       "    .dataframe tbody tr th {\n",
       "        vertical-align: top;\n",
       "    }\n",
       "\n",
       "    .dataframe thead th {\n",
       "        text-align: right;\n",
       "    }\n",
       "</style>\n",
       "<table border=\"1\" class=\"dataframe\">\n",
       "  <thead>\n",
       "    <tr style=\"text-align: right;\">\n",
       "      <th></th>\n",
       "      <th>Result</th>\n",
       "      <th>Count</th>\n",
       "    </tr>\n",
       "  </thead>\n",
       "  <tbody>\n",
       "    <tr>\n",
       "      <th>0</th>\n",
       "      <td>LOSE</td>\n",
       "      <td>992</td>\n",
       "    </tr>\n",
       "    <tr>\n",
       "      <th>1</th>\n",
       "      <td>WIN</td>\n",
       "      <td>8</td>\n",
       "    </tr>\n",
       "  </tbody>\n",
       "</table>\n",
       "</div>"
      ],
      "text/plain": [
       "  Result  Count\n",
       "0   LOSE    992\n",
       "1    WIN      8"
      ]
     },
     "metadata": {},
     "output_type": "display_data"
    },
    {
     "name": "stdout",
     "output_type": "stream",
     "text": [
      "Win rate: 0.01\n"
     ]
    },
    {
     "data": {
      "image/png": "[encoded data removed]",
      "text/plain": [
       "<Figure size 1000x500 with 2 Axes>"
      ]
     },
     "metadata": {},
     "output_type": "display_data"
    }
   ],
   "source": [
    "NUM_DOORS = 100\n",
    "\n",
    "plt.figure(figsize=(10, 5))\n",
    "plt.subplot(1, 2, 1)\n",
    "simulate(Strategy.SWITCH, UserMode.BEHIND, verbose=False)\n",
    "plt.subplot(1, 2, 2)\n",
    "simulate(Strategy.STAY, UserMode.BEHIND, verbose=False)\n",
    "plt.suptitle(f\"Results of {NUM_GAMES} games (num_doors={NUM_DOORS})\")\n",
    "plt.tight_layout()"
   ]
  },
  {
   "cell_type": "markdown",
   "metadata": {},
   "source": [
    "I think we got the point. We now know how to maximize the chance of driving home with a beautiful car. But what if we want to maximize the chance of driving home with a beautiful car AND a goat? 🤔 Question is left to the reader as an exercise. 😄"
   ]
  },
  {
   "cell_type": "code",
   "execution_count": null,
   "metadata": {},
   "outputs": [],
   "source": []
  }
 ],
 "metadata": {
  "kernelspec": {
   "display_name": "CaseTA",
   "language": "python",
   "name": "python3"
  },
  "language_info": {
   "codemirror_mode": {
    "name": "ipython",
    "version": 3
   },
   "file_extension": ".py",
   "mimetype": "text/x-python",
   "name": "python",
   "nbconvert_exporter": "python",
   "pygments_lexer": "ipython3",
   "version": "3.10.12"
  }
 },
 "nbformat": 4,
 "nbformat_minor": 2
}
